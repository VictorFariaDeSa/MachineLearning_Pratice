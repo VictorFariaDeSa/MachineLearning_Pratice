{
 "cells": [
  {
   "cell_type": "code",
   "execution_count": 1,
   "metadata": {},
   "outputs": [],
   "source": [
    "import numpy as np\n",
    "import matplotlib.pyplot as plt\n",
    "import random\n",
    "import pandas as pd\n",
    "np.random.seed(0)"
   ]
  },
  {
   "cell_type": "code",
   "execution_count": 2,
   "metadata": {},
   "outputs": [],
   "source": [
    "data = pd.read_csv(\"mnist_train.csv\")\n",
    "test = pd.read_csv(\"mnist_test.csv\")"
   ]
  },
  {
   "cell_type": "code",
   "execution_count": 3,
   "metadata": {},
   "outputs": [
    {
     "data": {
      "text/html": [
       "<div>\n",
       "<style scoped>\n",
       "    .dataframe tbody tr th:only-of-type {\n",
       "        vertical-align: middle;\n",
       "    }\n",
       "\n",
       "    .dataframe tbody tr th {\n",
       "        vertical-align: top;\n",
       "    }\n",
       "\n",
       "    .dataframe thead th {\n",
       "        text-align: right;\n",
       "    }\n",
       "</style>\n",
       "<table border=\"1\" class=\"dataframe\">\n",
       "  <thead>\n",
       "    <tr style=\"text-align: right;\">\n",
       "      <th></th>\n",
       "      <th>label</th>\n",
       "      <th>1x1</th>\n",
       "      <th>1x2</th>\n",
       "      <th>1x3</th>\n",
       "      <th>1x4</th>\n",
       "      <th>1x5</th>\n",
       "      <th>1x6</th>\n",
       "      <th>1x7</th>\n",
       "      <th>1x8</th>\n",
       "      <th>1x9</th>\n",
       "      <th>...</th>\n",
       "      <th>28x19</th>\n",
       "      <th>28x20</th>\n",
       "      <th>28x21</th>\n",
       "      <th>28x22</th>\n",
       "      <th>28x23</th>\n",
       "      <th>28x24</th>\n",
       "      <th>28x25</th>\n",
       "      <th>28x26</th>\n",
       "      <th>28x27</th>\n",
       "      <th>28x28</th>\n",
       "    </tr>\n",
       "  </thead>\n",
       "  <tbody>\n",
       "    <tr>\n",
       "      <th>0</th>\n",
       "      <td>7</td>\n",
       "      <td>0</td>\n",
       "      <td>0</td>\n",
       "      <td>0</td>\n",
       "      <td>0</td>\n",
       "      <td>0</td>\n",
       "      <td>0</td>\n",
       "      <td>0</td>\n",
       "      <td>0</td>\n",
       "      <td>0</td>\n",
       "      <td>...</td>\n",
       "      <td>0</td>\n",
       "      <td>0</td>\n",
       "      <td>0</td>\n",
       "      <td>0</td>\n",
       "      <td>0</td>\n",
       "      <td>0</td>\n",
       "      <td>0</td>\n",
       "      <td>0</td>\n",
       "      <td>0</td>\n",
       "      <td>0</td>\n",
       "    </tr>\n",
       "    <tr>\n",
       "      <th>1</th>\n",
       "      <td>2</td>\n",
       "      <td>0</td>\n",
       "      <td>0</td>\n",
       "      <td>0</td>\n",
       "      <td>0</td>\n",
       "      <td>0</td>\n",
       "      <td>0</td>\n",
       "      <td>0</td>\n",
       "      <td>0</td>\n",
       "      <td>0</td>\n",
       "      <td>...</td>\n",
       "      <td>0</td>\n",
       "      <td>0</td>\n",
       "      <td>0</td>\n",
       "      <td>0</td>\n",
       "      <td>0</td>\n",
       "      <td>0</td>\n",
       "      <td>0</td>\n",
       "      <td>0</td>\n",
       "      <td>0</td>\n",
       "      <td>0</td>\n",
       "    </tr>\n",
       "    <tr>\n",
       "      <th>2</th>\n",
       "      <td>1</td>\n",
       "      <td>0</td>\n",
       "      <td>0</td>\n",
       "      <td>0</td>\n",
       "      <td>0</td>\n",
       "      <td>0</td>\n",
       "      <td>0</td>\n",
       "      <td>0</td>\n",
       "      <td>0</td>\n",
       "      <td>0</td>\n",
       "      <td>...</td>\n",
       "      <td>0</td>\n",
       "      <td>0</td>\n",
       "      <td>0</td>\n",
       "      <td>0</td>\n",
       "      <td>0</td>\n",
       "      <td>0</td>\n",
       "      <td>0</td>\n",
       "      <td>0</td>\n",
       "      <td>0</td>\n",
       "      <td>0</td>\n",
       "    </tr>\n",
       "    <tr>\n",
       "      <th>3</th>\n",
       "      <td>0</td>\n",
       "      <td>0</td>\n",
       "      <td>0</td>\n",
       "      <td>0</td>\n",
       "      <td>0</td>\n",
       "      <td>0</td>\n",
       "      <td>0</td>\n",
       "      <td>0</td>\n",
       "      <td>0</td>\n",
       "      <td>0</td>\n",
       "      <td>...</td>\n",
       "      <td>0</td>\n",
       "      <td>0</td>\n",
       "      <td>0</td>\n",
       "      <td>0</td>\n",
       "      <td>0</td>\n",
       "      <td>0</td>\n",
       "      <td>0</td>\n",
       "      <td>0</td>\n",
       "      <td>0</td>\n",
       "      <td>0</td>\n",
       "    </tr>\n",
       "    <tr>\n",
       "      <th>4</th>\n",
       "      <td>4</td>\n",
       "      <td>0</td>\n",
       "      <td>0</td>\n",
       "      <td>0</td>\n",
       "      <td>0</td>\n",
       "      <td>0</td>\n",
       "      <td>0</td>\n",
       "      <td>0</td>\n",
       "      <td>0</td>\n",
       "      <td>0</td>\n",
       "      <td>...</td>\n",
       "      <td>0</td>\n",
       "      <td>0</td>\n",
       "      <td>0</td>\n",
       "      <td>0</td>\n",
       "      <td>0</td>\n",
       "      <td>0</td>\n",
       "      <td>0</td>\n",
       "      <td>0</td>\n",
       "      <td>0</td>\n",
       "      <td>0</td>\n",
       "    </tr>\n",
       "  </tbody>\n",
       "</table>\n",
       "<p>5 rows × 785 columns</p>\n",
       "</div>"
      ],
      "text/plain": [
       "   label  1x1  1x2  1x3  1x4  1x5  1x6  1x7  1x8  1x9  ...  28x19  28x20   \n",
       "0      7    0    0    0    0    0    0    0    0    0  ...      0      0  \\\n",
       "1      2    0    0    0    0    0    0    0    0    0  ...      0      0   \n",
       "2      1    0    0    0    0    0    0    0    0    0  ...      0      0   \n",
       "3      0    0    0    0    0    0    0    0    0    0  ...      0      0   \n",
       "4      4    0    0    0    0    0    0    0    0    0  ...      0      0   \n",
       "\n",
       "   28x21  28x22  28x23  28x24  28x25  28x26  28x27  28x28  \n",
       "0      0      0      0      0      0      0      0      0  \n",
       "1      0      0      0      0      0      0      0      0  \n",
       "2      0      0      0      0      0      0      0      0  \n",
       "3      0      0      0      0      0      0      0      0  \n",
       "4      0      0      0      0      0      0      0      0  \n",
       "\n",
       "[5 rows x 785 columns]"
      ]
     },
     "execution_count": 3,
     "metadata": {},
     "output_type": "execute_result"
    }
   ],
   "source": [
    "test.head()"
   ]
  },
  {
   "cell_type": "code",
   "execution_count": 126,
   "metadata": {},
   "outputs": [],
   "source": [
    "data = np.array(data)\n",
    "test = np.array(test)\n",
    "m,n = data.shape\n",
    "labels = data[:,0]\n",
    "values = data[:,1:n]/255\n",
    "test_labels = test[:,0]\n",
    "test_values = test[:,1:n]"
   ]
  },
  {
   "cell_type": "code",
   "execution_count": 127,
   "metadata": {},
   "outputs": [],
   "source": [
    "def oneHotEncode(len,value):\n",
    "    vector = np.zeros((len,1))\n",
    "    vector[value,0] = 1\n",
    "    return vector\n",
    "\n",
    "def checkAccuracy(prediction,value):\n",
    "    return prediction.argmax() == value\n",
    "\n",
    "def calculateCategoricalCrossEntropyLoss(prediction,true):\n",
    "    y_pred_clipped = np.clip(prediction,1e-7,1-1e-7)\n",
    "    return -np.log(np.sum(y_pred_clipped*oneHotEncode(10,true)))\n",
    "\n",
    "def calculateError(prediction,true):\n",
    "    return prediction - oneHotEncode(10,true)"
   ]
  },
  {
   "cell_type": "code",
   "execution_count": 149,
   "metadata": {},
   "outputs": [],
   "source": [
    "\n",
    "class Layer:\n",
    "    def __init__(self):\n",
    "        self.inputNum = None\n",
    "        self.outputNum = None\n",
    "\n",
    "class Dense(Layer):\n",
    "    def __init__(self,n_inputs,n_neurons):\n",
    "        self.weights = np.random.rand(n_neurons,n_inputs) -0.5\n",
    "        self.bias = np.zeros((n_neurons,1))\n",
    "\n",
    "    def foward(self, input):\n",
    "        self.inputs = input\n",
    "        return np.dot(self.weights,self.inputs) + self.bias\n",
    "    \n",
    "    def backward(self,gradient,learningRate):\n",
    "        weights_gradient = np.dot(gradient,self.inputs.T)\n",
    "        self.weights -= learningRate*weights_gradient\n",
    "        self.bias -= learningRate*gradient\n",
    "        return np.dot(self.weights.T,gradient)\n",
    "    \n",
    "\n",
    "class NeuralNetwork():\n",
    "    def __init__(self,layers):\n",
    "        self.layers = layers\n",
    "\n",
    "    def fowardStep(self,input):\n",
    "        inputData = input\n",
    "        for layer in self.layers:\n",
    "            inputData = layer.foward(inputData)\n",
    "        return inputData\n",
    "    \n",
    "    def backwardStep(self,gradient,learningRate):\n",
    "        gradientData = gradient\n",
    "        for layer in reversed(self.layers):\n",
    "            gradientData = layer.backward(gradientData,learningRate)\n",
    "        return gradientData\n",
    "\n",
    "\n",
    "    def train(self,images,labels,epochs,learningRate):\n",
    "        for epoch in range(epochs):\n",
    "            correctGuesses = 0\n",
    "            for img,label in zip(images,labels):\n",
    "                currImg = np.reshape(img,(n-1,1))\n",
    "                fowardResult = self.fowardStep(currImg)\n",
    "                correctGuesses += 1 if checkAccuracy(fowardResult,label) else 0\n",
    "                gradient = calculateError(fowardResult,label)\n",
    "                self.backwardStep(gradient,learningRate)\n",
    "            print(f\"Epoch {epoch} --> Accuracy = {correctGuesses/len(labels)*100:.2f}%\")\n",
    "\n",
    "\n"
   ]
  },
  {
   "cell_type": "code",
   "execution_count": 151,
   "metadata": {},
   "outputs": [],
   "source": [
    "class Activation_Relu:\n",
    "    def foward(self,inputs):\n",
    "        self.inputs = inputs\n",
    "        self.outputs = np.maximum(0,inputs)\n",
    "        return self.outputs\n",
    "    \n",
    "    def backward(self,gradient,learningRate):\n",
    "        return np.multiply(gradient,(self.inputs > 0).astype(float))\n",
    "    \n",
    "class Activation_Softmax:\n",
    "    def foward(self,inputs):\n",
    "        self.inputs = inputs\n",
    "        normalizedInput = inputs-np.max(inputs)\n",
    "        tmp = np.exp(normalizedInput)\n",
    "        self.output = tmp/np.sum(tmp)\n",
    "        return self.output\n",
    "    def backward(self,gradient,learningRate):\n",
    "        return gradient\n"
   ]
  },
  {
   "cell_type": "code",
   "execution_count": 152,
   "metadata": {},
   "outputs": [],
   "source": [
    "network = NeuralNetwork([\n",
    "    Dense(784,10),\n",
    "    Activation_Relu(),\n",
    "    Dense(10,10),\n",
    "    Activation_Softmax()\n",
    "])"
   ]
  },
  {
   "cell_type": "code",
   "execution_count": 153,
   "metadata": {},
   "outputs": [
    {
     "name": "stdout",
     "output_type": "stream",
     "text": [
      "Epoch 0 --> Accuracy = 20.07%\n"
     ]
    },
    {
     "name": "stderr",
     "output_type": "stream",
     "text": [
      "C:\\Users\\savic\\AppData\\Local\\Temp\\ipykernel_5176\\1791772533.py:13: RuntimeWarning: overflow encountered in subtract\n",
      "  normalizedInput = inputs-np.max(inputs)\n",
      "C:\\Users\\savic\\AppData\\Local\\Temp\\ipykernel_5176\\1791772533.py:13: RuntimeWarning: invalid value encountered in subtract\n",
      "  normalizedInput = inputs-np.max(inputs)\n"
     ]
    },
    {
     "name": "stdout",
     "output_type": "stream",
     "text": [
      "Epoch 1 --> Accuracy = 17.79%\n",
      "Epoch 2 --> Accuracy = 9.87%\n"
     ]
    },
    {
     "ename": "KeyboardInterrupt",
     "evalue": "",
     "output_type": "error",
     "traceback": [
      "\u001b[1;31m---------------------------------------------------------------------------\u001b[0m",
      "\u001b[1;31mKeyboardInterrupt\u001b[0m                         Traceback (most recent call last)",
      "Cell \u001b[1;32mIn[153], line 1\u001b[0m\n\u001b[1;32m----> 1\u001b[0m \u001b[43mnetwork\u001b[49m\u001b[38;5;241;43m.\u001b[39;49m\u001b[43mtrain\u001b[49m\u001b[43m(\u001b[49m\u001b[43mvalues\u001b[49m\u001b[43m,\u001b[49m\u001b[43mlabels\u001b[49m\u001b[43m,\u001b[49m\u001b[38;5;241;43m5\u001b[39;49m\u001b[43m,\u001b[49m\u001b[38;5;241;43m0.01\u001b[39;49m\u001b[43m)\u001b[49m\n",
      "Cell \u001b[1;32mIn[149], line 50\u001b[0m, in \u001b[0;36mNeuralNetwork.train\u001b[1;34m(self, images, labels, epochs, learningRate)\u001b[0m\n\u001b[0;32m     48\u001b[0m     gradient \u001b[38;5;241m=\u001b[39m fowardResult\n\u001b[0;32m     49\u001b[0m     gradient[label] \u001b[38;5;241m-\u001b[39m\u001b[38;5;241m=\u001b[39m \u001b[38;5;241m1\u001b[39m  \u001b[38;5;66;03m# Corrigindo gradiente\u001b[39;00m\n\u001b[1;32m---> 50\u001b[0m     \u001b[38;5;28;43mself\u001b[39;49m\u001b[38;5;241;43m.\u001b[39;49m\u001b[43mbackwardStep\u001b[49m\u001b[43m(\u001b[49m\u001b[43mgradient\u001b[49m\u001b[43m,\u001b[49m\u001b[43m \u001b[49m\u001b[43mlearningRate\u001b[49m\u001b[43m)\u001b[49m\n\u001b[0;32m     51\u001b[0m \u001b[38;5;28mprint\u001b[39m(\u001b[38;5;124mf\u001b[39m\u001b[38;5;124m\"\u001b[39m\u001b[38;5;124mEpoch \u001b[39m\u001b[38;5;132;01m{\u001b[39;00mepoch\u001b[38;5;132;01m}\u001b[39;00m\u001b[38;5;124m --> Accuracy = \u001b[39m\u001b[38;5;132;01m{\u001b[39;00mcorrectGuesses\u001b[38;5;241m/\u001b[39m\u001b[38;5;28mlen\u001b[39m(labels)\u001b[38;5;241m*\u001b[39m\u001b[38;5;241m100\u001b[39m\u001b[38;5;132;01m:\u001b[39;00m\u001b[38;5;124m.2f\u001b[39m\u001b[38;5;132;01m}\u001b[39;00m\u001b[38;5;124m%\u001b[39m\u001b[38;5;124m\"\u001b[39m)\n",
      "Cell \u001b[1;32mIn[149], line 35\u001b[0m, in \u001b[0;36mNeuralNetwork.backwardStep\u001b[1;34m(self, gradient, learningRate)\u001b[0m\n\u001b[0;32m     33\u001b[0m gradientData \u001b[38;5;241m=\u001b[39m gradient\n\u001b[0;32m     34\u001b[0m \u001b[38;5;28;01mfor\u001b[39;00m layer \u001b[38;5;129;01min\u001b[39;00m \u001b[38;5;28mreversed\u001b[39m(\u001b[38;5;28mself\u001b[39m\u001b[38;5;241m.\u001b[39mlayers):\n\u001b[1;32m---> 35\u001b[0m     gradientData \u001b[38;5;241m=\u001b[39m \u001b[43mlayer\u001b[49m\u001b[38;5;241;43m.\u001b[39;49m\u001b[43mbackward\u001b[49m\u001b[43m(\u001b[49m\u001b[43mgradientData\u001b[49m\u001b[43m,\u001b[49m\u001b[43mlearningRate\u001b[49m\u001b[43m)\u001b[49m\n\u001b[0;32m     36\u001b[0m \u001b[38;5;28;01mreturn\u001b[39;00m gradientData\n",
      "Cell \u001b[1;32mIn[149], line 16\u001b[0m, in \u001b[0;36mDense.backward\u001b[1;34m(self, gradient, learningRate)\u001b[0m\n\u001b[0;32m     15\u001b[0m \u001b[38;5;28;01mdef\u001b[39;00m \u001b[38;5;21mbackward\u001b[39m(\u001b[38;5;28mself\u001b[39m,gradient,learningRate):\n\u001b[1;32m---> 16\u001b[0m     weights_gradient \u001b[38;5;241m=\u001b[39m \u001b[43mnp\u001b[49m\u001b[38;5;241;43m.\u001b[39;49m\u001b[43mdot\u001b[49m\u001b[43m(\u001b[49m\u001b[43mgradient\u001b[49m\u001b[43m,\u001b[49m\u001b[38;5;28;43mself\u001b[39;49m\u001b[38;5;241;43m.\u001b[39;49m\u001b[43minputs\u001b[49m\u001b[38;5;241;43m.\u001b[39;49m\u001b[43mT\u001b[49m\u001b[43m)\u001b[49m\n\u001b[0;32m     17\u001b[0m     \u001b[38;5;28mself\u001b[39m\u001b[38;5;241m.\u001b[39mweights \u001b[38;5;241m-\u001b[39m\u001b[38;5;241m=\u001b[39m learningRate\u001b[38;5;241m*\u001b[39mweights_gradient\n\u001b[0;32m     18\u001b[0m     \u001b[38;5;28mself\u001b[39m\u001b[38;5;241m.\u001b[39mbias \u001b[38;5;241m-\u001b[39m\u001b[38;5;241m=\u001b[39m learningRate\u001b[38;5;241m*\u001b[39mgradient\n",
      "File \u001b[1;32m<__array_function__ internals>:200\u001b[0m, in \u001b[0;36mdot\u001b[1;34m(*args, **kwargs)\u001b[0m\n",
      "\u001b[1;31mKeyboardInterrupt\u001b[0m: "
     ]
    }
   ],
   "source": [
    "network.train(values,labels,5,0.01)"
   ]
  },
  {
   "cell_type": "code",
   "execution_count": 69,
   "metadata": {},
   "outputs": [
    {
     "data": {
      "text/plain": [
       "array([[1.],\n",
       "       [0.],\n",
       "       [1.],\n",
       "       [1.],\n",
       "       [1.],\n",
       "       [1.],\n",
       "       [1.],\n",
       "       [1.],\n",
       "       [1.],\n",
       "       [1.]])"
      ]
     },
     "execution_count": 69,
     "metadata": {},
     "output_type": "execute_result"
    }
   ],
   "source": [
    "img = np.reshape(values[0],(n-1,1))\n",
    "network.fowardStep(img)\n",
    "dense = Dense(784,10)\n",
    "relu = Activation_Relu()\n",
    "dense.foward(img)\n",
    "relu.foward(np.array([[1362.3602796 ],\n",
    "       [-1.5292648 ],\n",
    "       [1347.32393459],\n",
    "       [1468.91357089],\n",
    "       [1318.23949071],\n",
    "       [1211.72654485],\n",
    "       [1450.41173214],\n",
    "       [1459.56618337],\n",
    "       [1430.52703296],\n",
    "       [1382.73239906]]))\n",
    "relu.backward()"
   ]
  },
  {
   "cell_type": "code",
   "execution_count": 121,
   "metadata": {},
   "outputs": [
    {
     "data": {
      "text/plain": [
       "array([[0.15384315, 0.84404908, 0.82154751, 0.11424367, 0.66304221],\n",
       "       [0.12791221, 0.72052166, 0.61822103, 0.37649339, 0.92353805],\n",
       "       [0.68126916, 0.95216415, 0.45247457, 0.6524256 , 0.61162184],\n",
       "       [0.23525591, 0.18636773, 0.67900856, 0.97000427, 0.0453332 ],\n",
       "       [0.22669474, 0.56373332, 0.83214681, 0.04454144, 0.91967361]])"
      ]
     },
     "execution_count": 121,
     "metadata": {},
     "output_type": "execute_result"
    }
   ],
   "source": [
    "np.random.rand(5,5)"
   ]
  },
  {
   "cell_type": "code",
   "execution_count": null,
   "metadata": {},
   "outputs": [],
   "source": []
  }
 ],
 "metadata": {
  "kernelspec": {
   "display_name": "Python 3",
   "language": "python",
   "name": "python3"
  },
  "language_info": {
   "codemirror_mode": {
    "name": "ipython",
    "version": 3
   },
   "file_extension": ".py",
   "mimetype": "text/x-python",
   "name": "python",
   "nbconvert_exporter": "python",
   "pygments_lexer": "ipython3",
   "version": "3.11.2"
  }
 },
 "nbformat": 4,
 "nbformat_minor": 2
}
