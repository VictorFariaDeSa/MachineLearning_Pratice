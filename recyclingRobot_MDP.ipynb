{
 "cells": [
  {
   "cell_type": "code",
   "execution_count": 1,
   "metadata": {},
   "outputs": [],
   "source": [
    "import numpy as np\n",
    "import matplotlib.pyplot as plt\n",
    "import random"
   ]
  },
  {
   "cell_type": "code",
   "execution_count": 2,
   "metadata": {},
   "outputs": [],
   "source": [
    "find_search_prob = 0.5 \n",
    "find_wait_prob =  0.2\n",
    "penality = -3\n",
    "canReward = 1\n",
    "rechargeReward = 0\n",
    "alpha = 0.4\n",
    "beta = 0.2"
   ]
  },
  {
   "cell_type": "code",
   "execution_count": null,
   "metadata": {},
   "outputs": [],
   "source": [
    "class recyclingRobot:\n",
    "    def __init__(self):\n",
    "        self.state = True\n",
    "\n",
    "    def chooseAction(self):\n",
    "        if self.state:\n",
    "            actions = [\"serch\",\"wait\"]\n",
    "        else:\n",
    "            actions = [\"search\",\"wait\",\"recharge\"]"
   ]
  }
 ],
 "metadata": {
  "kernelspec": {
   "display_name": "Python 3",
   "language": "python",
   "name": "python3"
  },
  "language_info": {
   "codemirror_mode": {
    "name": "ipython",
    "version": 3
   },
   "file_extension": ".py",
   "mimetype": "text/x-python",
   "name": "python",
   "nbconvert_exporter": "python",
   "pygments_lexer": "ipython3",
   "version": "3.11.2"
  }
 },
 "nbformat": 4,
 "nbformat_minor": 2
}
