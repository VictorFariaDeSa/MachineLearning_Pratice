{
 "cells": [
  {
   "cell_type": "code",
   "execution_count": 1,
   "metadata": {},
   "outputs": [],
   "source": [
    "import numpy as np\n",
    "import matplotlib.pyplot as plt\n",
    "import random"
   ]
  },
  {
   "cell_type": "code",
   "execution_count": 7,
   "metadata": {},
   "outputs": [],
   "source": [
    "find_search_prob = 0.5 \n",
    "find_wait_prob =  0.2\n",
    "penality = -3\n",
    "canReward = 1\n",
    "rechargeReward = 0\n",
    "alpha = 0.6\n",
    "beta = 0.8\n",
    "numStates = 2\n",
    "numActions = 3\n",
    "notFoundReward = 0"
   ]
  },
  {
   "cell_type": "code",
   "execution_count": 36,
   "metadata": {},
   "outputs": [],
   "source": [
    "class recyclingRobot:\n",
    "    def __init__(self):\n",
    "        self.actions = [\"search\",\"wait\",\"recharge\"]\n",
    "        self.states = [\"high\",\"low\"]\n",
    "        self.state = self.states[0]\n",
    "        self.next_action_probability = np.array([\n",
    "        [0.34, 0.50],\n",
    "        [0.33, 0.50],\n",
    "        [0.33, 0.00]]) # p(a|s)\n",
    "        self.next_state_probability = {\n",
    "                \"search\":{\n",
    "                    \"high\":alpha,\n",
    "                    \"low\":1-beta},\n",
    "                \"wait\":{\n",
    "                    \"high\":1,\n",
    "                    \"low\":0},\n",
    "                \"recharge\":{\n",
    "                    \"high\":1,\n",
    "                    \"low\":1}\n",
    "        } # p(s'= high |s,a)\n",
    "        self.expected_rewards_table = {\n",
    "            \"high\":{\n",
    "                \"search\":{},\n",
    "                \"wait\":{},\n",
    "                \"recharge\":{},\n",
    "            },\n",
    "            \"low\":{\n",
    "                \"search\":{},\n",
    "                \"wait\":{},\n",
    "                \"recharge\":{},\n",
    "            },\n",
    "        } # r(s,a,s')\n",
    "        self.alpha = 0.1 # step size\n",
    "        self.gamma = 0.9 # discount factor\n",
    "        self.epsilon = 0.1 # greedy-probability\n",
    "        self.rewards = {\n",
    "            \"high\":{\n",
    "                \"search\":[canReward,notFoundReward],\n",
    "                \"wait\":[canReward,notFoundReward],\n",
    "                \"recharge\":[rechargeReward]\n",
    "            },\n",
    "            \"low\":{\n",
    "                \"search\":[penality,canReward,notFoundReward],\n",
    "                \"wait\":[canReward,notFoundReward],\n",
    "                \"recharge\":[rechargeReward]\n",
    "            }\n",
    "        } #r(s,a)\n",
    "        self.probabilities = {\n",
    "           \"high\":{\n",
    "                \"search\":[find_search_prob,1-find_search_prob],\n",
    "                \"wait\":[find_wait_prob,1-find_wait_prob],\n",
    "                \"recharge\":[1]\n",
    "            },\n",
    "            \"low\":{\n",
    "                \"search\":[1-beta,beta*find_search_prob,beta*(1-find_search_prob)],\n",
    "                \"wait\":[find_wait_prob,1-find_wait_prob],\n",
    "                \"recharge\":[1]\n",
    "            } \n",
    "        } #p(r|s,a)\n",
    "        self.calculate_expected_rewards_table()\n",
    "\n",
    "    def calculate_expected_rewards_table(self):\n",
    "        for state in self.states:\n",
    "            for action in self.actions:\n",
    "                for nextState in self.states:\n",
    "                    nextStateProbabily = self.next_state_probability[action][state] if nextState == \"high\" else (1-self.next_state_probability[action][state])\n",
    "                    num = sum([self.rewards[state][action][i]*nextStateProbabily*self.probabilities[state][action][i] for i in range(len(self.probabilities[state][action]))])\n",
    "                    self.expected_rewards_table[state][action][nextState] = num/nextStateProbabily if nextStateProbabily != 0 else 0\n",
    "\n",
    "\n",
    "    def search(self,successProbability):\n",
    "        if self.state == \"high\":\n",
    "            if np.random.rand() < alpha:\n",
    "                self.state = \"low\"\n",
    "        else:\n",
    "            if np.random.rand() < beta:\n",
    "                self.state = \"high\"\n",
    "                return penality\n",
    "        \n",
    "        if np.random.rand() < successProbability:\n",
    "             return canReward\n",
    "        else:\n",
    "             return 0\n",
    "\n",
    "    def wait(self,successProbability):\n",
    "         if np.random.rand() < successProbability:\n",
    "             return canReward\n",
    "         else:\n",
    "             return 0\n",
    "\n",
    "    def recharge(self):\n",
    "        self.state = \"high\"\n",
    "        return rechargeReward\n",
    "\n",
    "    def updateActions(self):\n",
    "        if self.state == \"high\":\n",
    "            self.actions = [self.search,self.wait]\n",
    "        else:\n",
    "            self.actions = [self.search,self.wait,self.recharge]"
   ]
  },
  {
   "cell_type": "code",
   "execution_count": 37,
   "metadata": {},
   "outputs": [
    {
     "data": {
      "text/plain": [
       "{'high': {'search': {'high': 0.5, 'low': 0.5},\n",
       "  'wait': {'high': 0.2, 'low': 0},\n",
       "  'recharge': {'high': 0.0, 'low': 0}},\n",
       " 'low': {'search': {'high': -0.19999999999999982, 'low': -0.1999999999999999},\n",
       "  'wait': {'high': 0, 'low': 0.2},\n",
       "  'recharge': {'high': 0.0, 'low': 0}}}"
      ]
     },
     "execution_count": 37,
     "metadata": {},
     "output_type": "execute_result"
    }
   ],
   "source": [
    "robot = recyclingRobot()\n",
    "robot.expected_rewards_table"
   ]
  },
  {
   "cell_type": "code",
   "execution_count": null,
   "metadata": {},
   "outputs": [],
   "source": []
  },
  {
   "cell_type": "code",
   "execution_count": null,
   "metadata": {},
   "outputs": [],
   "source": []
  }
 ],
 "metadata": {
  "kernelspec": {
   "display_name": "Python 3",
   "language": "python",
   "name": "python3"
  },
  "language_info": {
   "codemirror_mode": {
    "name": "ipython",
    "version": 3
   },
   "file_extension": ".py",
   "mimetype": "text/x-python",
   "name": "python",
   "nbconvert_exporter": "python",
   "pygments_lexer": "ipython3",
   "version": "3.12.0"
  }
 },
 "nbformat": 4,
 "nbformat_minor": 2
}
